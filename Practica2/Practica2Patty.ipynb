{
 "cells": [
  {
   "cell_type": "markdown",
   "metadata": {},
   "source": [
    "# Funciones listas y tuplas\n",
    "\n",
    "## Responda las siguientes Preguntas"
   ]
  },
  {
   "cell_type": "markdown",
   "metadata": {},
   "source": [
    "### Funciones\n",
    "\n",
    "* ¿Por qué son ventajosas las funciones para tener en sus programas?\n",
    "Permiten escribir un codigo más eficiente, disminuyendo la probabilidad de errores en el codigo.En lugar de escribir un codigo varias veces se puede llamar a la funcion, teniendo un codigo más pequeño y reducir el tiempo de codificación.\n",
    "\n",
    "* ¿Cuándo se ejecuta el código en una función: cuando se define la función o cuando se llama a la función?\n",
    "Para que se ejecute el codigo se manda a llamar a la funcion en alguna parte del codigo con print(“funcion”)  siendo la “funcion” la funcion previamente definida conel comando def.\n",
    "\n",
    "* ¿Qué enunciado crea una función?\n",
    "Se crea o se define la funcion al inicio del codigo, la manera de definir un función en python es la siguiente: def function(argumentos): \n",
    "sentencias\n",
    "\n",
    "* ¿Cuál es la diferencia entre una función y una llamada de función?\n",
    "Una función es aquella que se define, es una secuencia de sentencias que ejecuta una operación deseada y una Llamada de función es aquella que ejecuta la funcion previamente definida, contiene el nombre de la funcion a ejecutar seguida por la lista de valores llamados argumentos, que se asignan a los parametros en la definicion de funcion.\n",
    "\n",
    "* ¿Cuántos ámbitos globales hay en un programa de Python? ¿Cuántos ámbitos locales?\n",
    "* ¿Qué sucede con las variables en un ámbito local cuando se devuelve la llamada a la función?\n",
    "* ¿Qué es un valor de retorno? ¿Puede un valor de retorno ser parte de una expresión?\n",
    "* Si una función no tiene una declaración de retorno, ¿cuál es el valor de retorno de una llamada a esa función?. \n",
    "* ¿Cómo puede forzar una variable en una función para referirse a la variable global?\n",
    "* ¿Cuál es el tipo de datos de ```None```?\n",
    "* ¿Qué hace la declaración ```import random```?\n",
    "* Si tuviera una función llamada ```randint()``` en un módulo llamado ```random```, ¿cómo lo llamaría después de importar ```random```?"
   ]
  },
  {
   "cell_type": "markdown",
   "metadata": {},
   "source": [
    "### Lista y tuplas\n",
    "* ¿Qué es ```[]```?\n",
    "* ¿Cómo asignaría el valor ```'hola'``` como el tercer valor en una lista almacenada? en una variable llamada spam? (Supongamos que el ```spam``` contiene ```[2, 4, 6, 8, 10]```.) Para las siguientes tres preguntas, digamos que ```spam``` contiene la lista ```[2, 4, 6, 8, 10]```.\n",
    "* ¿Qué evalúa ```spam[int ('3' * 2) / 11]```?\n",
    "* ¿Qué evalúa ```spam[-1]```?\n",
    "* ¿Qué evalúa el ```spam[: 2]```?\n",
    "\n",
    "Para las siguientes tres preguntas, digamos que ```bacon``` contiene la lista ```[3.14, 'cat', 11, 'cat', True]```.\n",
    "* ¿Qué evalúa ```bacon.index('cat')```?\n",
    "* ¿Qué evalúa ```bacon.append(99)```?\n",
    "* ¿Qué hace ```bacon.remove('cat')```?\n",
    "* ¿Cuáles son los operadores para la concatenación de listas y la replicación de listas?\n",
    "* ¿Cuál es la diferencia entre los métodos de lista ```append()``` e ```insert()```?\n",
    "* ¿Cuál es la diferencia entre listas y tuplas?"
   ]
  },
  {
   "cell_type": "markdown",
   "metadata": {},
   "source": [
    "### Proyecto Práctico \n",
    "\n",
    "Códifique las siguiente funciones:"
   ]
  },
  {
   "cell_type": "markdown",
   "metadata": {},
   "source": [
    "* ```testPrime()``` que verifique si un número es primo.\n",
    "* ```prime()``` que genere los primos menores o iguales que $n \\in \\mathbb{I}\\mathbb{N}$.\n",
    "* ```twinPrime()``` que regrese una tupla con los primos gemelos  menores o iguales que $n \\in \\mathbb{I}\\mathbb{N}$.\n",
    "* ```theoremArihtmetic()``` que regrese una lista con la descomposión en potencias de primos para cualquier $n \\in \\mathbb{I}\\mathbb{N}$.\n",
    "* ```mcm()``` que regrese el mínimo común multiplo de dos enteros.\n",
    "* ```MCD()``` que regrese el máximo común divisor de dos enteros."
   ]
  },
  {
   "cell_type": "code",
   "execution_count": 50,
   "metadata": {},
   "outputs": [],
   "source": [
    "def testPrime(num):  ##definó la funcion testPrime\n",
    "    if num<2:\n",
    "        return False\n",
    "    elif num==2:\n",
    "        return True\n",
    "    else:\n",
    "        for i in range(2, num): ##si el numero dividido entre un numero n con n perteneciente (2,num)\n",
    "            if num%i== 0:        ##y el residuo es cero entronces no es primo\n",
    "                return False\n",
    "            elif num%i!=0:       ## si el residuo no es igual a cero entonces es primo\n",
    "                return True\n"
   ]
  },
  {
   "cell_type": "code",
   "execution_count": 48,
   "metadata": {
    "scrolled": true
   },
   "outputs": [
    {
     "data": {
      "text/plain": [
       "True"
      ]
     },
     "execution_count": 48,
     "metadata": {},
     "output_type": "execute_result"
    }
   ],
   "source": [
    "testPrime(313)"
   ]
  },
  {
   "cell_type": "code",
   "execution_count": null,
   "metadata": {},
   "outputs": [],
   "source": [
    "def prime(num):\n",
    "if num>0:   \n",
    "    for i in range(2, num):\n",
    "         c=2\n",
    "        esprimo= True\n",
    "    while esprimo and c<i:\n",
    "    if i%c==0:\n",
    "        esprimo= False\n",
    "    else:\n",
    "        c=c +1\n",
    "        if esprimo:\n",
    "print(i, num)"
   ]
  },
  {
   "cell_type": "code",
   "execution_count": null,
   "metadata": {},
   "outputs": [],
   "source": [
    "prime(7)"
   ]
  },
  {
   "cell_type": "code",
   "execution_count": null,
   "metadata": {},
   "outputs": [],
   "source": []
  },
  {
   "cell_type": "code",
   "execution_count": null,
   "metadata": {},
   "outputs": [],
   "source": []
  },
  {
   "cell_type": "code",
   "execution_count": null,
   "metadata": {},
   "outputs": [],
   "source": []
  },
  {
   "cell_type": "code",
   "execution_count": null,
   "metadata": {},
   "outputs": [],
   "source": []
  },
  {
   "cell_type": "code",
   "execution_count": null,
   "metadata": {},
   "outputs": [],
   "source": []
  }
 ],
 "metadata": {
  "kernelspec": {
   "display_name": "Python 3",
   "language": "python",
   "name": "python3"
  },
  "language_info": {
   "codemirror_mode": {
    "name": "ipython",
    "version": 3
   },
   "file_extension": ".py",
   "mimetype": "text/x-python",
   "name": "python",
   "nbconvert_exporter": "python",
   "pygments_lexer": "ipython3",
   "version": "3.5.2"
  }
 },
 "nbformat": 4,
 "nbformat_minor": 2
}
