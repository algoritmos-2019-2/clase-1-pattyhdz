{
 "cells": [
  {
   "cell_type": "code",
   "execution_count": 1,
   "metadata": {},
   "outputs": [],
   "source": [
    "def testPrime(num):  ##definó la funcion testPrime\n",
    "    if num<2:\n",
    "        return False\n",
    "    elif num==2:\n",
    "        return True\n",
    "    else:\n",
    "        for i in range(2, num): ##si el numero dividido entre un numero n con n perteneciente (2,num)\n",
    "            if num%i== 0:        ##y el residuo es cero entronces no es primo\n",
    "                return False\n",
    "            elif num%i!=0:       ## si el residuo no es igual a cero entonces es primo\n",
    "                return True"
   ]
  },
  {
   "cell_type": "code",
   "execution_count": 2,
   "metadata": {},
   "outputs": [
    {
     "data": {
      "text/plain": [
       "False"
      ]
     },
     "execution_count": 2,
     "metadata": {},
     "output_type": "execute_result"
    }
   ],
   "source": [
    "testPrime(312)"
   ]
  },
  {
   "cell_type": "code",
   "execution_count": 3,
   "metadata": {},
   "outputs": [
    {
     "name": "stdout",
     "output_type": "stream",
     "text": [
      "primer numero:6\n",
      "segundo numero:7\n",
      "El minimo comun multipo de  6  y  7  es 42\n"
     ]
    }
   ],
   "source": [
    "def mcm(a,b):\n",
    "    if a>b:   #si a es mayor que b\n",
    "        mayor=a    #a es mayor\n",
    "    else:\n",
    "        mayor=b    #ademas b es mayor \n",
    "    while(True):\n",
    "        if((mayor%a==0)and(mayor%b==0)): # el residuo de la division del mayor entre a o b es igual a 0\n",
    "            mcm=mayor\n",
    "            break\n",
    "        mayor= mayor+1 \n",
    "    return mcm\n",
    "n1=int(input(\"primer numero:\"))    #pedimos los numeros a y b\n",
    "n2=int(input(\"segundo numero:\")) \n",
    "\n",
    "print(\"El minimo comun multipo de \",n1,\" y \",n2,\" es\", mcm(n1,n2))"
   ]
  },
  {
   "cell_type": "code",
   "execution_count": 4,
   "metadata": {
    "scrolled": true
   },
   "outputs": [
    {
     "name": "stdout",
     "output_type": "stream",
     "text": [
      "primer numero:7\n",
      "segundo numero:8\n",
      "El maximo comun divisor de 7  y  8  es  8\n"
     ]
    }
   ],
   "source": [
    "def MCD(a,b):\n",
    "    resto=0       #el resto es igual a 0\n",
    "    while(b>0):    #mientras la variable b sea mayor a 0 y el resot sea igual a b \n",
    "        resto=b     #el residuo de la division de a entre b sea igual a b\n",
    "        b=a%b\n",
    "        a=resto      \n",
    "        return a\n",
    "n1= int(input(\"primer numero:\")) #pedimos los dos numeros a y b\n",
    "n2=int(input(\"segundo numero:\"))\n",
    "\n",
    "print(\"El maximo comun divisor de\", n1, \" y \", n2,\" es \", MCD(n1,n2))\n"
   ]
  },
  {
   "cell_type": "code",
   "execution_count": 7,
   "metadata": {},
   "outputs": [
    {
     "name": "stdout",
     "output_type": "stream",
     "text": [
      "Ingrese un numero: 8\n",
      "1 2\n",
      "2 3\n",
      "3 5\n",
      "4 7\n",
      "5 9\n",
      "6 11\n",
      "7 13\n",
      "8 15\n"
     ]
    }
   ],
   "source": [
    "def prime(num):\n",
    "    if num<2:\n",
    "        return False\n",
    "    elif num==2:\n",
    "        return True\n",
    "    else:\n",
    "        for i in range(2, num): ##si el numero dividido entre un numero n con n perteneciente (2,num)\n",
    "            if num%i== 0:        ##y el residuo es cero entronces no es primo\n",
    "                return False\n",
    "            elif num%i!=0:       ## si el residuo no es igual a cero entonces es primo\n",
    "                return True   \n",
    "num=int(input(\"Ingrese un numero: \"))  \n",
    "c=2\n",
    "contador=1\n",
    "while contador<=num:\n",
    "        if prime(c):\n",
    "            print(contador, c)\n",
    "            contador= contador +1\n",
    "        c=c+1"
   ]
  },
  {
   "cell_type": "code",
   "execution_count": 44,
   "metadata": {},
   "outputs": [],
   "source": [
    "def testPrime(num):      #Utilizamos la definición testPrime()\n",
    "    if num==2:\n",
    "        return True\n",
    "    if num%2==0:\n",
    "        return False\n",
    "    i=3\n",
    "    while i**2<=n:\n",
    "        if num%i==0:\n",
    "            return False\n",
    "        if num%i != 0:\n",
    "            return True\n",
    "def twinsPrime(inicio, fin):     #Calculamos las parejas de numeros primos en un intervalo\n",
    "    for i in range(inicio, fin):\n",
    "        j=i+2\n",
    "        if(testPrime(i) and testPrime(j)):\n",
    "            print((\"{:d} y {:d}\".format(i,j)))"
   ]
  },
  {
   "cell_type": "code",
   "execution_count": 32,
   "metadata": {},
   "outputs": [
    {
     "name": "stdout",
     "output_type": "stream",
     "text": [
      "1 y 3\n",
      "3 y 5\n",
      "5 y 7\n",
      "11 y 13\n",
      "17 y 19\n",
      "29 y 31\n",
      "41 y 43\n",
      "59 y 61\n",
      "71 y 73\n",
      "101 y 103\n",
      "107 y 109\n",
      "137 y 139\n",
      "149 y 151\n",
      "179 y 181\n",
      "191 y 193\n",
      "197 y 199\n",
      "227 y 229\n",
      "239 y 241\n",
      "269 y 271\n",
      "281 y 283\n"
     ]
    }
   ],
   "source": [
    "twinsPrime(0,300)"
   ]
  },
  {
   "cell_type": "code",
   "execution_count": 41,
   "metadata": {},
   "outputs": [],
   "source": [
    "def theoremArihtmetic(num):     #definimos la funcion           \n",
    "    i=2\n",
    "    factores=[]\n",
    "    while i*i <= num:\n",
    "        if num%i:     #si el residuo del numero entre i\n",
    "            i= i+1\n",
    "        else:\n",
    "            num//=i\n",
    "            factores.append(i)\n",
    "    if num>1:      #si el numero es mayor que 1\n",
    "        factores.append(num)\n",
    "    return factores"
   ]
  },
  {
   "cell_type": "code",
   "execution_count": 39,
   "metadata": {},
   "outputs": [
    {
     "data": {
      "text/plain": [
       "[2, 2, 3, 5, 5]"
      ]
     },
     "execution_count": 39,
     "metadata": {},
     "output_type": "execute_result"
    }
   ],
   "source": [
    "theoremArihtmetic(300)"
   ]
  },
  {
   "cell_type": "code",
   "execution_count": null,
   "metadata": {},
   "outputs": [],
   "source": []
  },
  {
   "cell_type": "code",
   "execution_count": null,
   "metadata": {},
   "outputs": [],
   "source": []
  }
 ],
 "metadata": {
  "kernelspec": {
   "display_name": "Python 3",
   "language": "python",
   "name": "python3"
  },
  "language_info": {
   "codemirror_mode": {
    "name": "ipython",
    "version": 3
   },
   "file_extension": ".py",
   "mimetype": "text/x-python",
   "name": "python",
   "nbconvert_exporter": "python",
   "pygments_lexer": "ipython3",
   "version": "3.5.2"
  }
 },
 "nbformat": 4,
 "nbformat_minor": 2
}
