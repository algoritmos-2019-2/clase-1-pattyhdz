{
 "cells": [
  {
   "cell_type": "markdown",
   "metadata": {},
   "source": [
    "# Funciones listas y tuplas\n",
    "\n",
    "## Responda las siguientes Preguntas"
   ]
  },
  {
   "cell_type": "markdown",
   "metadata": {},
   "source": [
    "### Funciones\n",
    "\n",
    "* ¿Por qué son ventajosas las funciones para tener en sus programas?\n",
    "Permiten escribir un codigo más eficiente, disminuyendo la probabilidad de errores en el codigo.En lugar de escribir un codigo varias veces se puede llamar a la funcion, teniendo un codigo más pequeño y reducir el tiempo de codificación.\n",
    "\n",
    "* ¿Cuándo se ejecuta el código en una función: cuando se define la función o cuando se llama a la función?\n",
    "Para que se ejecute el codigo se manda a llamar a la funcion en alguna parte del codigo con print(“funcion”)  siendo la “funcion” la funcion previamente definida conel comando def.\n",
    "\n",
    "* ¿Qué enunciado crea una función?\n",
    "Se crea o se define la funcion al inicio del codigo, la manera de definir un función en python es la siguiente: def function(argumentos): \n",
    "sentencias\n",
    "\n",
    "* ¿Cuál es la diferencia entre una función y una llamada de función?\n",
    "Una función es aquella que se define, es una secuencia de sentencias que ejecuta una operación deseada y una Llamada de función es aquella que ejecuta la funcion previamente definida, contiene el nombre de la funcion a ejecutar seguida por la lista de valores llamados argumentos, que se asignan a los parametros en la definicion de funcion.\n",
    "\n",
    "* ¿Cuántos ámbitos globales hay en un programa de Python? ¿Cuántos ámbitos locales?\n",
    "Cuantas el creador del programa defina, se pueden definir tantas variables globales y locales como nosotros queramos.\n",
    "* ¿Qué sucede con las variables en un ámbito local cuando se devuelve la llamada a la función?\n",
    "Como la variable local se define dentro de la función, entonces al momento de devolver la llamada a  la función dicha variables tambien se ejecuta\n",
    "* ¿Qué es un valor de retorno? ¿Puede un valor de retorno ser parte de una expresión?\n",
    "Un valor de retorno se utiliza para forzar la salida inmediata de alguna funcion, hace que la ejecucion del programa vuelva al codigo que llamo a la funcion y tambien se utiliza para devolver un valor.\n",
    "* Si una función no tiene una declaración de retorno, ¿cuál es el valor de retorno de una llamada a esa función?. \n",
    "Cuando una funcion no tiene declaracion de retorno se devuelve un valor, este valor no esta definido, por lo que puede ser un valor cualquiera. Para que la funcion nos entrege un determinado valor se usa la sentencia return.\n",
    "* ¿Cómo puede forzar una variable en una función para referirse a la variable global?\n",
    "Una variable grobal se define fuera del cuerpo de dicha funcion por ejemplo al inicio del programa, antes de la funcion,etc. El dominio donde la variable global puede trabajar es en todo el codigo, todas las funciones dentro del codigo pueden acceder a la variable global llamandola dentro de una funcion.\n",
    "* ¿Cuál es el tipo de datos de ```None```?\n",
    "La sentencia de  None es un tipo de datos de valor nulo y se usa para indicar que una variable no tiene un valor o cuando hay casos en donde ningun valor es válido. \n",
    "* ¿Qué hace la declaración ```import random```?\n",
    "Importa paqueterias completas y definidas\n",
    "* Si tuviera una función llamada ```randint()``` en un módulo llamado ```random```, ¿cómo lo llamaría después de importar ```random```?\n",
    "Para llamar a la funcion randint se debe poner random.randint(2,n), generandose los numeros aleatorios de 2 a n o tambien podemos poner from random import randint print(randint(2,n))."
   ]
  },
  {
   "cell_type": "markdown",
   "metadata": {},
   "source": [
    "### Lista y tuplas\n",
    "* ¿Qué es ```[]```?\n",
    "Los signos [] implican una lista,las cuales presentan una serie de funciones que permiten un extenso manejo de los valores que hay dentro de las listas.\n",
    "* ¿Cómo asignaría el valor ```'hola'``` como el tercer valor en una lista almacenada? en una variable llamada spam? \n",
    "spam.insert(3, \"hola\") o tambien se puede poniendo spam= [2, 4, \"hola\", 8, 10 ]\n",
    "\n",
    "(Supongamos que el ```spam``` contiene ```[2, 4, 6, 8, 10]```.) Para las siguientes tres preguntas, digamos que ```spam``` contiene la lista ```[2, 4, 6, 8, 10]```.\n",
    "\n",
    "* ¿Qué evalúa ```spam[int ('3' * 2) / 11]```? multiplica el elemento 3 por el 2 y el resultado lo divide entre 11\n",
    "\n",
    "* ¿Qué evalúa ```spam[-1]```? muestra el ultimo valor de la lista, en este caso nos imprime el numero 10 \n",
    "\n",
    "* ¿Qué evalúa el ```spam[: 2]```?\n",
    "imprime desde el primer elemento de la lista hasta el 2 \n",
    "\n",
    "Para las siguientes tres preguntas, digamos que ```bacon``` contiene la lista ```[3.14, 'cat', 11, 'cat', True]```.\n",
    "* ¿Qué evalúa ```bacon.index('cat')```? indica la posición del elemento \"cat\" dentrto de la lista bacon, en este caso la posicion 1 y 3\n",
    "* ¿Qué evalúa ```bacon.append(99)```? agrega el elemento 99 a la lista bacon\n",
    "* ¿Qué hace ```bacon.remove('cat')```? elimina o quita el elemento cat de la lista bacon\n",
    "\n",
    "* ¿Cuáles son los operadores para la concatenación de listas y la replicación de listas?\n",
    "El operador de concatenación es el unico operador aritmético, que se puede usar con cadenas, mediante el simbolo +.\n",
    "\n",
    "* ¿Cuál es la diferencia entre los métodos de lista ```append()``` e ```insert()```? append solo agrega elementos a una lista en el ultimo lugar y con insert podemos indicar en que psoción queremos que se agregue el elemento\n",
    "* ¿Cuál es la diferencia entre listas y tuplas? A las listas le podemos cambiar, quitar y agregar valores, es decir, es mutable; y las Tuplas son inmutables, una vez creadas no pueden modificarse."
   ]
  },
  {
   "cell_type": "markdown",
   "metadata": {},
   "source": [
    "### Proyecto Práctico \n",
    "\n",
    "Códifique las siguiente funciones:"
   ]
  },
  {
   "cell_type": "markdown",
   "metadata": {},
   "source": [
    "* ```testPrime()``` que verifique si un número es primo.\n",
    "* ```prime()``` que genere los primos menores o iguales que $n \\in \\mathbb{I}\\mathbb{N}$.\n",
    "* ```twinPrime()``` que regrese una tupla con los primos gemelos  menores o iguales que $n \\in \\mathbb{I}\\mathbb{N}$.\n",
    "* ```theoremArihtmetic()``` que regrese una lista con la descomposión en potencias de primos para cualquier $n \\in \\mathbb{I}\\mathbb{N}$.\n",
    "* ```mcm()``` que regrese el mínimo común multiplo de dos enteros.\n",
    "* ```MCD()``` que regrese el máximo común divisor de dos enteros."
   ]
  },
  {
   "cell_type": "code",
   "execution_count": 1,
   "metadata": {},
   "outputs": [],
   "source": [
    "def testPrime(num):  ##definó la funcion testPrime\n",
    "    if num<2:\n",
    "        return False\n",
    "    elif num==2:\n",
    "        return True\n",
    "    else:\n",
    "        for i in range(2, num): ##si el numero dividido entre un numero n con n perteneciente (2,num)\n",
    "            if num%i== 0:        ##y el residuo es cero entronces no es primo\n",
    "                return False\n",
    "            elif num%i!=0:       ## si el residuo no es igual a cero entonces es primo\n",
    "                return True"
   ]
  },
  {
   "cell_type": "code",
   "execution_count": 2,
   "metadata": {
    "scrolled": true
   },
   "outputs": [
    {
     "data": {
      "text/plain": [
       "True"
      ]
     },
     "execution_count": 2,
     "metadata": {},
     "output_type": "execute_result"
    }
   ],
   "source": [
    "testPrime(3313)"
   ]
  },
  {
   "cell_type": "code",
   "execution_count": null,
   "metadata": {},
   "outputs": [],
   "source": []
  },
  {
   "cell_type": "code",
   "execution_count": null,
   "metadata": {},
   "outputs": [],
   "source": []
  }
 ],
 "metadata": {
  "kernelspec": {
   "display_name": "Python 3",
   "language": "python",
   "name": "python3"
  },
  "language_info": {
   "codemirror_mode": {
    "name": "ipython",
    "version": 3
   },
   "file_extension": ".py",
   "mimetype": "text/x-python",
   "name": "python",
   "nbconvert_exporter": "python",
   "pygments_lexer": "ipython3",
   "version": "3.5.2"
  }
 },
 "nbformat": 4,
 "nbformat_minor": 2
}
