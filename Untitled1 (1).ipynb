{
 "cells": [
  {
   "cell_type": "code",
   "execution_count": 98,
   "metadata": {},
   "outputs": [
    {
     "name": "stdout",
     "output_type": "stream",
     "text": [
      "Coloca el número de veces que deseas recorrer el texto: 3\n",
      "Coloca el texto que deseas codificar: Saludos buscadores del misterio\n",
      "Este es tu texto cifrado: Vdoxgrv exvfdgruhv gho plvwhulr\n"
     ]
    }
   ],
   "source": [
    "import string\n",
    "import collections\n",
    "n=int(input(\"Coloca el número de veces que deseas recorrer el texto: \"))\n",
    "cipher=str(input(\"Coloca el texto que deseas codificar: \"))\n",
    "def caesar(rotate_string, number_to_rotate_by):\n",
    "    upper=collections.deque(string.ascii_uppercase)\n",
    "    lower=collections.deque(string.ascii_lowercase)\n",
    "    \n",
    "    upper.rotate(number_to_rotate_by)\n",
    "    lower.rotate(number_to_rotate_by)\n",
    "    \n",
    "    upper=\"\".join(list(upper))\n",
    "    lower=\"\".join(list(lower))\n",
    "    \n",
    "    cipher=rotate_string.translate(str.maketrans(string.ascii_uppercase, upper)).translate(str.maketrans(string.ascii_lowercase, lower))\n",
    "    return cipher\n",
    "codigo=caesar(cipher, -n)\n",
    "print(\"Este es tu texto cifrado:\", codigo)"
   ]
  },
  {
   "cell_type": "code",
   "execution_count": 99,
   "metadata": {},
   "outputs": [
    {
     "data": {
      "text/plain": [
       "'Saludos buscadores del misterio'"
      ]
     },
     "execution_count": 99,
     "metadata": {},
     "output_type": "execute_result"
    }
   ],
   "source": [
    "##translate\n",
    "def translate(codedtext, numbertouncode):\n",
    "    \n",
    "    upper=collections.deque(string.ascii_uppercase)\n",
    "    lower=collections.deque(string.ascii_lowercase)\n",
    "    \n",
    "    upper.rotate(numbertouncode)\n",
    "    lower.rotate(numbertouncode)\n",
    "    \n",
    "    upper=\"\".join(list(upper))\n",
    "    lower=\"\".join(list(lower))\n",
    "    \n",
    "    uncipher=codedtext.translate(str.maketrans(string.ascii_uppercase, upper)).translate(str.maketrans(string.ascii_lowercase, lower))\n",
    "    return uncipher\n",
    "translate(codigo, n)"
   ]
  },
  {
   "cell_type": "code",
   "execution_count": null,
   "metadata": {},
   "outputs": [],
   "source": []
  }
 ],
 "metadata": {
  "kernelspec": {
   "display_name": "Python 3",
   "language": "python",
   "name": "python3"
  },
  "language_info": {
   "codemirror_mode": {
    "name": "ipython",
    "version": 3
   },
   "file_extension": ".py",
   "mimetype": "text/x-python",
   "name": "python",
   "nbconvert_exporter": "python",
   "pygments_lexer": "ipython3",
   "version": "3.7.1"
  }
 },
 "nbformat": 4,
 "nbformat_minor": 2
}
